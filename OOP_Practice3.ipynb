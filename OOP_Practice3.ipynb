{
  "nbformat": 4,
  "nbformat_minor": 0,
  "metadata": {
    "colab": {
      "name": "OOP_Practice3.ipynb",
      "provenance": [],
      "authorship_tag": "ABX9TyMfU8vDN8oFW8wTVzu/R4h6",
      "include_colab_link": true
    },
    "kernelspec": {
      "name": "python3",
      "display_name": "Python 3"
    },
    "language_info": {
      "name": "python"
    }
  },
  "cells": [
    {
      "cell_type": "markdown",
      "metadata": {
        "id": "view-in-github",
        "colab_type": "text"
      },
      "source": [
        "<a href=\"https://colab.research.google.com/github/AmitTalawar/OOP-ASSIGNMENT/blob/main/OOP_Practice3.ipynb\" target=\"_parent\"><img src=\"https://colab.research.google.com/assets/colab-badge.svg\" alt=\"Open In Colab\"/></a>"
      ]
    },
    {
      "cell_type": "markdown",
      "metadata": {
        "id": "uoYKe4-DEDyw"
      },
      "source": [
        "#Encapsulation"
      ]
    },
    {
      "cell_type": "markdown",
      "metadata": {
        "id": "Wb-BXDqlEH0g"
      },
      "source": [
        "###Public / Private Variables"
      ]
    },
    {
      "cell_type": "code",
      "metadata": {
        "colab": {
          "base_uri": "https://localhost:8080/"
        },
        "id": "iX8HjFH9EAKY",
        "outputId": "5849c00f-f43e-4302-f95d-6b56eda30d6c"
      },
      "source": [
        "class User:\n",
        "    def __init__(self, name, residency):\n",
        "        self.name = name  #Public Variable\n",
        "        self.__residency = residency\n",
        "\n",
        "    def getName(self):\n",
        "        print(f\"Hello, I'm  {self.name}\")\n",
        "\n",
        "    def getResidency(self):\n",
        "        print(f\"{self.name} stays in {self.__residency}\")\n",
        "\n",
        "U1 = User(\"Udit\", \"Mumbai\")\n",
        "U1.getName()\n",
        "U1.getResidency()\n",
        "U1.name = \"Rahul\"  #Valid operation\n",
        "U1.__residency = \"Bangalore\"  #Does not change the value\n",
        "U1.getResidency()"
      ],
      "execution_count": 8,
      "outputs": [
        {
          "output_type": "stream",
          "name": "stdout",
          "text": [
            "Hello, I'm  Udit\n",
            "Udit stays in Mumbai\n",
            "Rahul stays in Mumbai\n"
          ]
        }
      ]
    },
    {
      "cell_type": "markdown",
      "metadata": {
        "id": "jMZeMlmiHE-R"
      },
      "source": [
        "##Impact of Inheritance on Public / Private variables"
      ]
    },
    {
      "cell_type": "code",
      "metadata": {
        "colab": {
          "base_uri": "https://localhost:8080/",
          "height": 346
        },
        "id": "fx1y5PReHRrg",
        "outputId": "2dd2f645-14aa-48d3-ad28-350c67c49d49"
      },
      "source": [
        "class Employee:\n",
        "    def __init__(self, salary):\n",
        "        self.__salary = salary\n",
        "\n",
        "    def getSalary(self):\n",
        "        print(f\"Salary : {self.__salary}\")\n",
        "\n",
        "class Manager(Employee):\n",
        "    def __init__(self, name, salary):\n",
        "        Employee.__init__(self, salary)\n",
        "        self.name = name\n",
        "\n",
        "    def getName(self):\n",
        "        print(f\"Hello, I'm  {self.name}\")\n",
        "\n",
        "    def callPrivate(self):\n",
        "        print(f\"Salary : {self.__salary}\")\n",
        "\n",
        "M1 = Manager(\"Rohit\", 70000)\n",
        "M1.getName()\n",
        "M1.getSalary()\n",
        "M1.callPrivate()  #will throw an error"
      ],
      "execution_count": 11,
      "outputs": [
        {
          "output_type": "stream",
          "name": "stdout",
          "text": [
            "Hello, I'm  Rohit\n",
            "Salary : 70000\n"
          ]
        },
        {
          "output_type": "error",
          "ename": "AttributeError",
          "evalue": "ignored",
          "traceback": [
            "\u001b[0;31m---------------------------------------------------------------------------\u001b[0m",
            "\u001b[0;31mAttributeError\u001b[0m                            Traceback (most recent call last)",
            "\u001b[0;32m<ipython-input-11-0cc19105ae84>\u001b[0m in \u001b[0;36m<module>\u001b[0;34m()\u001b[0m\n\u001b[1;32m     20\u001b[0m \u001b[0mM1\u001b[0m\u001b[0;34m.\u001b[0m\u001b[0mgetName\u001b[0m\u001b[0;34m(\u001b[0m\u001b[0;34m)\u001b[0m\u001b[0;34m\u001b[0m\u001b[0;34m\u001b[0m\u001b[0m\n\u001b[1;32m     21\u001b[0m \u001b[0mM1\u001b[0m\u001b[0;34m.\u001b[0m\u001b[0mgetSalary\u001b[0m\u001b[0;34m(\u001b[0m\u001b[0;34m)\u001b[0m\u001b[0;34m\u001b[0m\u001b[0;34m\u001b[0m\u001b[0m\n\u001b[0;32m---> 22\u001b[0;31m \u001b[0mM1\u001b[0m\u001b[0;34m.\u001b[0m\u001b[0mcallPrivate\u001b[0m\u001b[0;34m(\u001b[0m\u001b[0;34m)\u001b[0m\u001b[0;34m\u001b[0m\u001b[0;34m\u001b[0m\u001b[0m\n\u001b[0m",
            "\u001b[0;32m<ipython-input-11-0cc19105ae84>\u001b[0m in \u001b[0;36mcallPrivate\u001b[0;34m(self)\u001b[0m\n\u001b[1;32m     15\u001b[0m \u001b[0;34m\u001b[0m\u001b[0m\n\u001b[1;32m     16\u001b[0m     \u001b[0;32mdef\u001b[0m \u001b[0mcallPrivate\u001b[0m\u001b[0;34m(\u001b[0m\u001b[0mself\u001b[0m\u001b[0;34m)\u001b[0m\u001b[0;34m:\u001b[0m\u001b[0;34m\u001b[0m\u001b[0;34m\u001b[0m\u001b[0m\n\u001b[0;32m---> 17\u001b[0;31m         \u001b[0mprint\u001b[0m\u001b[0;34m(\u001b[0m\u001b[0;34mf\"Salary : {self.__salary}\"\u001b[0m\u001b[0;34m)\u001b[0m\u001b[0;34m\u001b[0m\u001b[0;34m\u001b[0m\u001b[0m\n\u001b[0m\u001b[1;32m     18\u001b[0m \u001b[0;34m\u001b[0m\u001b[0m\n\u001b[1;32m     19\u001b[0m \u001b[0mM1\u001b[0m \u001b[0;34m=\u001b[0m \u001b[0mManager\u001b[0m\u001b[0;34m(\u001b[0m\u001b[0;34m\"Rohit\"\u001b[0m\u001b[0;34m,\u001b[0m \u001b[0;36m70000\u001b[0m\u001b[0;34m)\u001b[0m\u001b[0;34m\u001b[0m\u001b[0;34m\u001b[0m\u001b[0m\n",
            "\u001b[0;31mAttributeError\u001b[0m: 'Manager' object has no attribute '_Manager__salary'"
          ]
        }
      ]
    },
    {
      "cell_type": "markdown",
      "metadata": {
        "id": "4qKliuM7Jp8Q"
      },
      "source": [
        "##Constructors [Non - Parametrized / Parametrized]"
      ]
    },
    {
      "cell_type": "code",
      "metadata": {
        "colab": {
          "base_uri": "https://localhost:8080/"
        },
        "id": "2Z2T236qJ0vA",
        "outputId": "ec19a5da-1261-47db-db4e-e76b61548a72"
      },
      "source": [
        "class NonParametrized:\n",
        "    def __init__(self):\n",
        "        self.parameters = None\n",
        "\n",
        "    def getParameters(self):\n",
        "        print(f\"Parameters : {self.parameters}\")\n",
        "\n",
        "class Parametrized:\n",
        "    def __init__(self, p1, p2):\n",
        "        self.p1 = p1\n",
        "        self.p2 = p2\n",
        "\n",
        "    def getParameters(self):\n",
        "        print(f\"Parameters : p1 : {self.p1}; p2 : {self.p2}\")\n",
        "\n",
        "NP1 = NonParametrized()\n",
        "NP1.getParameters()\n",
        "P1 = Parametrized(\"Amit\", \"IIIT_DHARWAD\")\n",
        "P1.getParameters()"
      ],
      "execution_count": 15,
      "outputs": [
        {
          "output_type": "stream",
          "name": "stdout",
          "text": [
            "Parameters : None\n",
            "Parameters : p1 : Amit; p2 : IIIT_DHARWAD\n"
          ]
        }
      ]
    }
  ]
}