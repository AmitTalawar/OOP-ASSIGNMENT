{
  "nbformat": 4,
  "nbformat_minor": 0,
  "metadata": {
    "colab": {
      "name": "Assignment1.ipynb",
      "provenance": [],
      "authorship_tag": "ABX9TyM9/c7TyChKJG29EFuJAm0p"
    },
    "kernelspec": {
      "name": "python3",
      "display_name": "Python 3"
    },
    "language_info": {
      "name": "python"
    }
  },
  "cells": [
    {
      "cell_type": "markdown",
      "metadata": {
        "id": "-dRZH9XlQLhV"
      },
      "source": [
        "# LAB ASSIGNMENT 1"
      ]
    },
    {
      "cell_type": "markdown",
      "metadata": {
        "id": "AspocbsmP9KU"
      },
      "source": [
        "## Problem 1"
      ]
    },
    {
      "cell_type": "code",
      "metadata": {
        "colab": {
          "base_uri": "https://localhost:8080/"
        },
        "id": "IPo6Z40NPzsR",
        "outputId": "8be41f04-257b-4602-e3e5-904afc3673cb"
      },
      "source": [
        "def isLeapYear(year):\n",
        "    if (year % 4 == 0 and year % 100 != 0) or year % 400 == 0:\n",
        "        return True\n",
        "    else:\n",
        "        return False\n",
        "\n",
        "year = int(input(\"Enter the year to check for leap year : \"))\n",
        "print(isLeapYear(year))"
      ],
      "execution_count": 54,
      "outputs": [
        {
          "output_type": "stream",
          "name": "stdout",
          "text": [
            "Enter the year to check for leap year : 1111\n",
            "False\n"
          ]
        }
      ]
    },
    {
      "cell_type": "markdown",
      "metadata": {
        "id": "MKN9Ym6OSeRF"
      },
      "source": [
        "##Problem 2"
      ]
    },
    {
      "cell_type": "code",
      "metadata": {
        "colab": {
          "base_uri": "https://localhost:8080/"
        },
        "id": "5IvQu_7-ShKU",
        "outputId": "b21c4ba7-154a-418e-9249-4a02ea3a6397"
      },
      "source": [
        "def checkInt(num):\n",
        "    if (num % 2 != 0) or (num >= 6 and num <= 20):\n",
        "        print(\"Weird\")\n",
        "    elif (num >= 2 and num <= 5) or (num > 20):\n",
        "        print(\"Not Weird\")\n",
        "\n",
        "num = int(input(\"Enter the number : \"))\n",
        "checkInt(num)"
      ],
      "execution_count": 56,
      "outputs": [
        {
          "output_type": "stream",
          "name": "stdout",
          "text": [
            "Enter the number : 22\n",
            "Not Weird\n"
          ]
        }
      ]
    },
    {
      "cell_type": "markdown",
      "metadata": {
        "id": "cp_N4O3EUG_V"
      },
      "source": [
        "##Problem 3"
      ]
    },
    {
      "cell_type": "code",
      "metadata": {
        "colab": {
          "base_uri": "https://localhost:8080/"
        },
        "id": "Gyw3fR_hUJiU",
        "outputId": "756887a2-2291-49d1-f057-c467e0ec7001"
      },
      "source": [
        "def checkPuncuality(sequence, name):\n",
        "    # print(sequence[int(len(sequence) / 2) : -1])\n",
        "    if name in sequence[len(sequence) // 2 : -1]:\n",
        "        print(f\"{name} is fashionably late\")\n",
        "    else:\n",
        "        print(f\"{name} is not fashionably late\")\n",
        "\n",
        "sequence = [\"Hardik\", \"Rahul\", \"Virat\", \"Rishabh\", \"Mahi\", \"Rohit\", \"Rahane\"]\n",
        "name = input(\"Enter the name to check punctuality : \")\n",
        "checkPuncuality(sequence, name)"
      ],
      "execution_count": 57,
      "outputs": [
        {
          "output_type": "stream",
          "name": "stdout",
          "text": [
            "Enter the name to check punctuality : Hardik\n",
            "Hardik is not fashionably late\n"
          ]
        }
      ]
    },
    {
      "cell_type": "markdown",
      "metadata": {
        "id": "GprupXZBYhbU"
      },
      "source": [
        "##Problem 4"
      ]
    },
    {
      "cell_type": "code",
      "metadata": {
        "colab": {
          "base_uri": "https://localhost:8080/"
        },
        "id": "WY5ROUzkYjw0",
        "outputId": "381e6520-171e-46cc-f1ca-aa2ca4998d11"
      },
      "source": [
        "def findArticles(docList, keyword):\n",
        "    keyword = keyword.lower()\n",
        "    filter = []\n",
        "    for element in docList:\n",
        "        temp = element\n",
        "        element = element.lower()\n",
        "        element = element.replace(\".\", \"\").replace(\",\", \"\")\n",
        "        if keyword in element.split(\" \"):\n",
        "            filter.append(temp)\n",
        "    return filter\n",
        "\n",
        "docList = [\"The Learn Python Challenge Rohit.\", \"They bought a car\", \"bangalore\"]\n",
        "keyword = input(\"Enter the keyword : \")\n",
        "filter = findArticles(docList, keyword)\n",
        "print(filter)"
      ],
      "execution_count": 58,
      "outputs": [
        {
          "output_type": "stream",
          "name": "stdout",
          "text": [
            "Enter the keyword : bought\n",
            "['They bought a car']\n"
          ]
        }
      ]
    },
    {
      "cell_type": "markdown",
      "metadata": {
        "id": "r0BXIbYNe7PT"
      },
      "source": [
        "##Problem 5"
      ]
    },
    {
      "cell_type": "code",
      "metadata": {
        "colab": {
          "base_uri": "https://localhost:8080/"
        },
        "id": "Bd7yz9jje-PL",
        "outputId": "cb03d010-ed2f-443f-cc7a-9c8409aded59"
      },
      "source": [
        "def calcGP(BP):\n",
        "    return (BP + 0.4 * BP + 0.2 * BP)\n",
        "\n",
        "BP = int(input(\"Enter BP : \"))\n",
        "print(calcGP(BP)) "
      ],
      "execution_count": 60,
      "outputs": [
        {
          "output_type": "stream",
          "name": "stdout",
          "text": [
            "Enter BP : 15000\n",
            "24000.0\n"
          ]
        }
      ]
    }
  ]
}